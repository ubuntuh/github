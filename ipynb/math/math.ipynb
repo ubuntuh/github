{
 "metadata": {
  "name": "",
  "signature": "sha256:9f4d6c7ae1af91dc0dd9ee61adeb81fd2451c6732987ee54660defc1966df020"
 },
 "nbformat": 3,
 "nbformat_minor": 0,
 "worksheets": [
  {
   "cells": [
    {
     "cell_type": "markdown",
     "metadata": {},
     "source": [
      "# \u6570\u5b66\n",
      "\n",
      "## \u5c55\u958b\u516c\u5f0f\n",
      "\n",
      "* \u9ad8\u6821\u306e\u6570\u5b66\u306b\u3064\u3044\u3066\u3001SymPy \u3092\u4f7f\u3063\u3066\u8003\u3048\u3066\u307f\u308b\u3002\n",
      "* \u5c55\u958b\u516c\u5f0f\u3068\u8a00\u308f\u308c\u308b\u3082\u306e\u304c\u3042\u308b\u3002"
     ]
    },
    {
     "cell_type": "code",
     "collapsed": false,
     "input": [
      "from sympy import *\n",
      "from sympy.abc import *\n",
      "init_printing()\n",
      "\n",
      "expr = (a + b) ** 2\n",
      "Eq(expr, expr.expand())"
     ],
     "language": "python",
     "metadata": {},
     "outputs": []
    },
    {
     "cell_type": "code",
     "collapsed": false,
     "input": [
      "expr = (a - b) ** 2\n",
      "Eq(expr, expr.expand())"
     ],
     "language": "python",
     "metadata": {},
     "outputs": []
    },
    {
     "cell_type": "code",
     "collapsed": false,
     "input": [
      "expr = (a + b) * (a - b)\n",
      "Eq(expr, expr.expand())"
     ],
     "language": "python",
     "metadata": {},
     "outputs": []
    },
    {
     "cell_type": "code",
     "collapsed": false,
     "input": [
      "expr = (x + a) * (x + b)\n",
      "Eq(expr, expr.expand())\n",
      "# \u3046\u3001(a + x)(b + x) = ab + ax + bx + x ** 2 \u3068\u8868\u793a\u3055\u308c\u308b\u3002"
     ],
     "language": "python",
     "metadata": {},
     "outputs": []
    }
   ],
   "metadata": {}
  }
 ]
}