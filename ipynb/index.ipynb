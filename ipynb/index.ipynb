{
 "metadata": {
  "name": "",
  "signature": "sha256:ac15e949b85a55c4dc0c235bccc264e917bfdadd10e17943819ad408b54f24d7"
 },
 "nbformat": 3,
 "nbformat_minor": 0,
 "worksheets": [
  {
   "cells": [
    {
     "cell_type": "markdown",
     "metadata": {},
     "source": [
      "# IPython Notebook\n",
      "\n",
      "### 2016-02-05 Fri\n",
      "\n",
      "* IPython Notebook \u3068\u3044\u3046\u3082\u306e\u304c\u3042\u308b\u3089\u3057\u3044\u3002\u9577\u304f\u6a19\u6e96\u7684\u3067\u3042\u3063\u3066\u304f\u308c\u308b\u3088\u3046\u306a\u3082\u306e\u306a\u306e\u304b\u3069\u3046\u304b\u308f\u304b\u3089\u306a\u3044\u304c\u3001\u7528\u9014\u306b\u3088\u3063\u3066\u306f\u751f\u7523\u6027\u304c\u9ad8\u3044\u3089\u3057\u3044\u3002\n",
      "* \u3068\u308a\u3042\u3048\u305a\u3001GitHub \u3067\u306f\u66f8\u3051\u306a\u3044\u6570\u5f0f\u304c\uff08MathJax \u3067\uff09\u66f8\u3051\u308b\u3089\u3057\u3044\u3002\u6570\u5f0f\u3092\u66f8\u304d\u305f\u3044\u6642\uff08\u306a\u3044\u3051\u3069\uff09\u306b\u4fbf\u5229\u304b\u3082\u3057\u308c\u306a\u3044\u3002\u3082\u3063\u3068\u304b\u3063\u3053\u3044\u3044\u30b0\u30e9\u30d5\u3068\u304b\u3082\u66f8\u3051\u308b\u3089\u3057\u3044\u3002\n",
      "* O'Reilly \u304b\u3089\u300cIPython\u30c7\u30fc\u30bf\u30b5\u30a4\u30a8\u30f3\u30b9\u30af\u30c3\u30af\u30d6\u30c3\u30af\u300d\u3068\u3044\u3046\u672c\u304c 2015-12-25 \u306b\u51fa\u3066\u3044\u308b\u3002\u539f\u66f8\u306f IPython Interactive Computing and Visualization Cookbook \u3067 2014 \u5e74 9 \u6708\u306b\u51fa\u3066\u3044\u308b\u3002\n",
      "* http://cyrille.rossant.net/\n",
      "* IPython \u306f\u30c6\u30ad\u30b9\u30c8\u30b7\u30a7\u30eb\u3067\u3042\u308b\u3002Python \u306e\u6a19\u6e96\u7684\u306a\u30a4\u30f3\u30bf\u30d7\u30ea\u30bf\u306e\u5bfe\u8a71\u7684\u306a\u5b9f\u884c\u3088\u308a\u3082\u591a\u6a5f\u80fd\u3067\u3042\u308b\u3089\u3057\u3044\u3002\n",
      "* IPython Notebook \u306f\u3001\u30a6\u30a7\u30d6\u30a2\u30d7\u30ea\u30b1\u30fc\u30b7\u30e7\u30f3\u3067\u3042\u308b\u3002\u305d\u3053\u306b\u304a\u3044\u3066\u64cd\u4f5c\u3055\u308c\u308b\u305d\u308c\u305e\u308c\u306e\u30da\u30fc\u30b8\u3001\u3059\u306a\u308f\u3061\u30ce\u30fc\u30c8\u30d6\u30c3\u30af\u306f\u3001\u62e1\u5f35\u5b50\u304c .ipynb \u3067\u3042\u308b\u30c6\u30ad\u30b9\u30c8\u30c7\u30fc\u30bf\u3067\u3042\u308b\u3002\n",
      "* \u4f7f\u7528\u4f8b\u304c\u7d39\u4ecb\u3055\u308c\u3066\u3044\u308b\u3002\n",
      "* http://d.hatena.ne.jp/xef/20130217\n",
      "* IPython Notebook \u3067\u306f\u4e0a\u90e8\u306b\u30e1\u30cb\u30e5\u30fc\u304c\u3042\u308b\u304c\u3001\u305d\u3053\u304b\u3089\u64cd\u4f5c\u3092\u7e70\u308a\u8fd4\u3059\u306e\u306f\u9762\u5012\u306a\u306e\u3067\u3001Help \u30e1\u30cb\u30e5\u30fc\u306b\u3042\u308b\u30b7\u30e7\u30fc\u30c8\u30ab\u30c3\u30c8\u30ad\u30fc\u3092\u53c2\u8003\u306b\u3059\u308b\u3068\u3044\u3044\u3002"
     ]
    },
    {
     "cell_type": "code",
     "collapsed": false,
     "input": [
      "# Python \u30b3\u30fc\u30c9\u306e\u7d50\u679c\u3092\u51fa\u529b\u3059\u308b\u3002\n",
      "2 ** 8"
     ],
     "language": "python",
     "metadata": {},
     "outputs": []
    },
    {
     "cell_type": "markdown",
     "metadata": {},
     "source": [
      "* \u306a\u304a\u5c11\u3057\u6c17\u5473\u304c\u60aa\u3044\u304c\u666e\u901a\u306e\u30b3\u30de\u30f3\u30c9\u304c\u4f7f\u3048\u308b\u3002"
     ]
    },
    {
     "cell_type": "code",
     "collapsed": false,
     "input": [
      "!seq 3"
     ],
     "language": "python",
     "metadata": {},
     "outputs": []
    },
    {
     "cell_type": "markdown",
     "metadata": {},
     "source": [
      "* http://nbviewer.jupyter.org/github/ipython/ipython/blob/2.x/examples/Notebook/Typesetting%20Math%20Using%20MathJax.ipynb\n",
      "* \u3092\u53c2\u8003\u306b\u6570\u5f0f\u3092\u66f8\u304f\u3002\n",
      "* \u6570\u5f0f\u304c\u8868\u793a\u3055\u308c\u305a\u3001\u4ee3\u308f\u308a\u306b Math Processing Error \u3068\u8868\u793a\u3055\u308c\u3066\u56f0\u3063\u305f\u3002\u53f3\u30af\u30ea\u30c3\u30af - Math Settings - Math Renderer - SVG \u3092\u9078\u629e\u3057\u3066\u8868\u793a\u3057\u306a\u304a\u3057\u305f\u3089\u8868\u793a\u3055\u308c\u305f\u3002"
     ]
    },
    {
     "cell_type": "markdown",
     "metadata": {},
     "source": [
      "* inline \u306a\u6570\u5f0f\u2192 $\\sqrt{3x-1}+(1+x)^2$ \u3002inline \u3058\u3083\u306a\u3044\u6570\u5f0f\u2193\u3002"
     ]
    },
    {
     "cell_type": "markdown",
     "metadata": {},
     "source": [
      "\\begin{equation*}\n",
      "P(E)   = {n \\choose k} p^k (1-p)^{ n-k} \n",
      "\\end{equation*}"
     ]
    },
    {
     "cell_type": "markdown",
     "metadata": {},
     "source": [
      "* matplotlib \u3068\u3044\u3046\u3082\u306e\u3092\u4f7f\u3046\u3068\u56f3\u304c\u66f8\u3051\u308b\u3089\u3057\u3044\u3002\n",
      "* http://nbviewer.jupyter.org/github/ipython/ipython/blob/2.x/examples/Notebook/Plotting%20with%20Matplotlib.ipynb"
     ]
    },
    {
     "cell_type": "code",
     "collapsed": false,
     "input": [
      "%matplotlib inline\n",
      "import matplotlib.pyplot as plt\n",
      "import numpy as np\n",
      "x = np.linspace(0, 3*np.pi, 500)\n",
      "plt.plot(x, np.sin(x**2))\n",
      "plt.title('A simple chirp');"
     ],
     "language": "python",
     "metadata": {},
     "outputs": []
    },
    {
     "cell_type": "markdown",
     "metadata": {},
     "source": [
      "* sympy \u3068\u3044\u3046\u3082\u306e\u3092\u4f7f\u3046\u3068\u8a08\u7b97\u7d50\u679c\u3092\u7528\u3044\u305f\u6570\u5f0f\u304c\u66f8\u3051\u308b\u3089\u3057\u3044\u3002\u8b0e\u306e\u6280\u8853\u3067\u3042\u308b\u3002\n",
      "* \u4e0b\u306e\u4f8b\u306f\u6b21\u306e URL \u304b\u3089\u306e\u30b3\u30d4\u30fc\u3067\u3042\u308b\u3002\n",
      "* http://docs.sympy.org/dev/tutorial/printing.html\n",
      "* sympy \u3068\u3044\u3046\u306e\u306f Mathematica \u3068\u3044\u3046\u3082\u306e\u3084 GPL \u3067\u3042\u308b Maxima \u306b\u4f3c\u305f\uff1f\u6a5f\u80fd\u3067\u3042\u308b\u3089\u3057\u3044\u3002\u8981\u3059\u308b\u306b\u5f0f\u3092\u5909\u5f62\u3059\u308b\u6a5f\u80fd\u304c\u3042\u308b\u3002\u3059\u3054\u3044\u3002\u5bbf\u984c\u306b\u4f7f\u3048\u308b\u3002 "
     ]
    },
    {
     "cell_type": "code",
     "collapsed": false,
     "input": [
      "from sympy import *\n",
      "init_printing()\n",
      "x, y, z = symbols('x, y, z')\n",
      "Integral(sqrt(1/x), x)"
     ],
     "language": "python",
     "metadata": {},
     "outputs": []
    },
    {
     "cell_type": "markdown",
     "metadata": {},
     "source": [
      "* 2d \u3084 3d \u306e\u56f3\u3082\uff08sympy \u3068\u306e\u95a2\u4fc2\u3067\uff09\u66f8\u3051\u308b\u3089\u3057\u3044\u3002"
     ]
    },
    {
     "cell_type": "code",
     "collapsed": false,
     "input": [
      "plot(x*x, x, (x, -4, 4), ylim=(-4, 4))"
     ],
     "language": "python",
     "metadata": {},
     "outputs": []
    },
    {
     "cell_type": "code",
     "collapsed": false,
     "input": [
      "from sympy.plotting import plot3d\n",
      "plot3d(x*y, (x, -5, 5), (y, -5, 5))"
     ],
     "language": "python",
     "metadata": {},
     "outputs": []
    },
    {
     "cell_type": "markdown",
     "metadata": {},
     "source": [
      "* sympy \u3092\u6d3b\u7528\u3059\u308b\u3068\u3053\u308d\u306b IPython Notebook \u306e\u9762\u767d\u307f\u304c\u3042\u308b\u306e\u304b\u306a\u3068\u601d\u3046\u3002\n",
      "* \u305d\u306e\u5229\u4fbf\u6027\u3068\u9650\u754c\u3092\u77e5\u308b\u305f\u3081\u306b\u306f\u3001sympy\u3001\u305d\u3057\u3066 Python \u3092\u77e5\u3089\u306a\u3051\u308c\u3070\u306a\u3089\u306a\u3044\u3002\n",
      "* ...\n",
      "* .ipynb \u30d5\u30a1\u30a4\u30eb\u306e\u30b5\u30a4\u30ba\u304c\u5927\u304d\u3044\u3002\u51fa\u529b\u3092\u5168\u3066\u30d0\u30a4\u30ca\u30ea\u3067\u4fdd\u5b58\u3057\u3066\u3044\u308b\u3088\u3046\u3060\u3002MathJax \u306e\u90e8\u5206\u306f\u305d\u3046\u3044\u3046\u3053\u3068\u306f\u306a\u3044\u3002\n",
      "* \u79c1\u3068\u3057\u3066\u306f\u3001\u30da\u30fc\u30b8\u3092\u958b\u304f\u305f\u3073\u306b\u51fa\u529b\u3092\u8a08\u7b97\u3057\u306a\u304a\u3057\u3066\u3082\u3089\u3048\u308c\u3070\u3088\u304f\u3001\u30d5\u30a1\u30a4\u30eb\u30b5\u30a4\u30ba\u3092\u5927\u304d\u304f\u3057\u3066\u307b\u3057\u304f\u306a\u3044\u3002\n",
      "* \uff08Kernel - Restart \u3057\u3066\u3001\uff09Cell - All Output - Clear \u3057\u3066 File - Save and Checkpoint \u3057\u3066\u3059\u3063\u304d\u308a\u3002\u51fa\u529b\u304c\u5168\u3066\u6d88\u3048\u3066\u3057\u307e\u3063\u305f\u3051\u308c\u3069\u3001\u30d5\u30a1\u30a4\u30eb\u30b5\u30a4\u30ba\u306f\u5c0f\u3055\u304f\u306a\u3063\u305f\u3002\u30d5\u30a1\u30a4\u30eb\u30b5\u30a4\u30ba\u306f\u5c0f\u3055\u304f\u306a\u3063\u305f\u3051\u3069\u3001\u51fa\u529b\u304c\u5168\u3066\u6d88\u3048\u3066\u3057\u307e\u3063\u305f\u3002\n",
      "* \u56f0\u3063\u305f\u3002\n",
      "* Cell - Run All \u3092\u9078\u3076\u3060\u3051\u3067\u51fa\u529b\u304c\u5168\u3066\u518d\u73fe\u3055\u308c\u308b\u3002\u8aad\u307f\u7d42\u308f\u3063\u305f\u3089\u3001Cell - All Output - Clear \u3057\u3066\u4fdd\u5b58\u3059\u308c\u3070\u30d5\u30a1\u30a4\u30eb\u30b5\u30a4\u30ba\u306f\u5c0f\u3055\u304f\u306a\u308b\u3002\u3053\u306e\u3072\u3068\uff08\u3075\u305f\uff09\u624b\u9593\u304c\u9762\u5012\u304f\u3055\u304f\u3066\u5b9f\u7528\u3067\u304d\u306a\u3044\u6c17\u304c\u3059\u308b\u3002"
     ]
    }
   ],
   "metadata": {}
  }
 ]
}