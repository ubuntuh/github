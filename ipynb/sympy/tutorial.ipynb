{
 "metadata": {
  "name": "",
  "signature": "sha256:aaef4a8d344b2e7af40eed8b379ab9314d6d69e029a9cf6c6016673252620cf4"
 },
 "nbformat": 3,
 "nbformat_minor": 0,
 "worksheets": [
  {
   "cells": [
    {
     "cell_type": "markdown",
     "metadata": {},
     "source": [
      "# SymPy\n",
      "\n",
      "### 2016-02-06 Sat\n",
      "\n",
      "* SymPy \u306f computer algebra system (CAS) \u306e\u4e00\u3064\u3067\u3042\u308b\u3002\u307b\u3068\u3093\u3069\u540c\u3058\u610f\u5473\u3060\u304c\u3001symbolic computation system \u3067\u3082\u3042\u308b\u3002\n",
      "* SymPy \u306e\u516c\u5f0f\u306e\u30c1\u30e5\u30fc\u30c8\u30ea\u30a2\u30eb\u304c\u3042\u308b\u3002\n",
      "* http://docs.sympy.org/latest/tutorial/index.html\n",
      "* \u30d7\u30ed\u30b0\u30e9\u30df\u30f3\u30b0\u306b\u304a\u3044\u3066\u57fa\u672c\u7684\u3067\u3042\u308b\u6d6e\u52d5\u5c0f\u6570\u70b9\u6f14\u7b97\u306b\u304a\u3044\u3066\u3001\u5358\u7d14\u306b 8 \u306e\u5e73\u65b9\u6839\u3092\u5f97\u305f\u306a\u3089\u3070\u3001\u7b54\u3048\u306f 2.828... \u3068\u3044\u3046\u8fd1\u4f3c\u5024\u306b\u306a\u308b\u3002\u3057\u304b\u3057 SymPy \u3067\u306f\u9055\u3046\u3002"
     ]
    },
    {
     "cell_type": "code",
     "collapsed": false,
     "input": [
      "import math\n",
      "import sympy\n",
      "sympy.init_printing()\n",
      "expr1 = math.sqrt(8)\n",
      "expr2 = sympy.sqrt(8)\n",
      "(expr1, expr2)"
     ],
     "language": "python",
     "metadata": {},
     "outputs": []
    },
    {
     "cell_type": "markdown",
     "metadata": {},
     "source": [
      "* \u5909\u6570\u3092\u4f7f\u3046\u6642\u306b\u306f\u3001\u4f7f\u3046\u524d\u306b\u5b9a\u7fa9\u3059\u308b\u3002\u3053\u3053\u3067\u306f\u5909\u6570 x \u3068 y \u3092\u5b9a\u7fa9\u3059\u308b\u3002\n",
      "* \u5f0f\u306b\u5bfe\u3059\u308b\u8a08\u7b97\u3082\u9069\u5207\u306b\u884c\u308f\u308c\u308b\u3002"
     ]
    },
    {
     "cell_type": "code",
     "collapsed": false,
     "input": [
      "from sympy import symbols\n",
      "x, y = symbols('x y')\n",
      "expr = x + 2 * y\n",
      "(expr, expr + 1, expr - x)"
     ],
     "language": "python",
     "metadata": {},
     "outputs": []
    },
    {
     "cell_type": "markdown",
     "metadata": {},
     "source": [
      "* \u3069\u3061\u3089\u306e\u5f62\u304c\u4fbf\u5229\u3067\u3042\u308b\u304b\u304c\u72b6\u6cc1\u306b\u3088\u3063\u3066\u7570\u306a\u308b\u5834\u5408\u306b\u306f\u3001\u660e\u793a\u7684\u306b\u5909\u5f62\u3059\u308b\u3002"
     ]
    },
    {
     "cell_type": "code",
     "collapsed": false,
     "input": [
      "from sympy import expand\n",
      "from sympy import factor\n",
      "expr1 = x * (x + 2 * y)\n",
      "expr2 = expand(expr1)\n",
      "expr3 = factor(expr2)\n",
      "(expr1, expr2, expr3)"
     ],
     "language": "python",
     "metadata": {},
     "outputs": []
    },
    {
     "cell_type": "markdown",
     "metadata": {},
     "source": [
      "## \u4ee3\u8868\u7684\u306a\u6a5f\u80fd"
     ]
    },
    {
     "cell_type": "code",
     "collapsed": false,
     "input": [
      "# \u5fae\u5206 differentiate\n",
      "from sympy import *\n",
      "x, t, z, nu = symbols('x t z nu')\n",
      "expr1 = sin(x) * exp(x)\n",
      "expr2 = diff(expr1, x)\n",
      "(expr1, expr2)"
     ],
     "language": "python",
     "metadata": {},
     "outputs": []
    },
    {
     "cell_type": "code",
     "collapsed": false,
     "input": [
      "# \u7a4d\u5206\n",
      "expr1 = exp(x) * sin(x) + exp(x) * cos(x)\n",
      "expr2 = integrate(expr1, x)\n",
      "(expr1, expr2)"
     ],
     "language": "python",
     "metadata": {},
     "outputs": []
    },
    {
     "cell_type": "code",
     "collapsed": false,
     "input": [
      "expr1 = sin(x ** 2)\n",
      "expr2 = integrate(expr1, (x, -oo, oo))\n",
      "(expr1, expr2)"
     ],
     "language": "python",
     "metadata": {},
     "outputs": []
    },
    {
     "cell_type": "code",
     "collapsed": false,
     "input": [
      "# \u6975\u9650\n",
      "expr1 = sin(x)/x\n",
      "expr2 = limit(expr1, x, 0)\n",
      "(expr1, expr2)"
     ],
     "language": "python",
     "metadata": {},
     "outputs": []
    },
    {
     "cell_type": "code",
     "collapsed": false,
     "input": [
      "# x ** 2 - 2 = 0 \u3067\u3042\u308b x\u3002\n",
      "expr1 = x ** 2 - 2\n",
      "expr2 = solve(expr1, x)\n",
      "(expr1, expr2)"
     ],
     "language": "python",
     "metadata": {},
     "outputs": []
    },
    {
     "cell_type": "code",
     "collapsed": false,
     "input": [
      "# \u5fae\u5206\u65b9\u7a0b\u5f0f\u3092\u89e3\u304f\n",
      "y = Function('y')\n",
      "expr1 = Eq(y(t).diff(t, t) - y(t), exp(t))\n",
      "expr2 = dsolve(expr1, y(t))\n",
      "(expr1, expr2)"
     ],
     "language": "python",
     "metadata": {},
     "outputs": []
    },
    {
     "cell_type": "code",
     "collapsed": false,
     "input": [
      "# \u56fa\u6709\u5024\u3092\u6c42\u3081\u308b\n",
      "expr1 = Matrix([[1, 2], [2, 2]])\n",
      "expr2 = expr1.eigenvals()\n",
      "(expr1, expr2)"
     ],
     "language": "python",
     "metadata": {},
     "outputs": []
    },
    {
     "cell_type": "code",
     "collapsed": false,
     "input": [
      "# \u30d9\u30c3\u30bb\u30eb\u95a2\u6570\u3092\u7403\u30d9\u30c3\u30bb\u30eb\u95a2\u6570\u3067\u8868\u3059\u3002\n",
      "expr1 = besselj(nu, z)\n",
      "expr2 = expr1.rewrite(jn)\n",
      "(expr1, expr2)"
     ],
     "language": "python",
     "metadata": {},
     "outputs": []
    },
    {
     "cell_type": "markdown",
     "metadata": {},
     "source": [
      "## \u57fa\u672c\u7684\u306a\u64cd\u4f5c"
     ]
    },
    {
     "cell_type": "code",
     "collapsed": false,
     "input": [
      "# \u4efb\u610f\u306e\u6587\u5b57\u5217\u3092\u8a18\u53f7\u306b\u3067\u304d\u308b\u3002\n",
      "returnOnEquity = symbols('returnOnEquity')\n",
      "netIncome = symbols('netIncome')\n",
      "shareholderEquity = symbols('shareholderEquity')\n",
      "# \u7b49\u53f7\u306f\u95a2\u6570 Eq\n",
      "expr1 = Eq(returnOnEquity, netIncome / shareholderEquity)\n",
      "# \u4ee3\u5165 (substitute) \u3059\u308b\u3002\n",
      "expr2 = expr1.subs([(netIncome, 6), (shareholderEquity, 50)])\n",
      "(expr1, expr2)"
     ],
     "language": "python",
     "metadata": {},
     "outputs": []
    },
    {
     "cell_type": "code",
     "collapsed": false,
     "input": [
      "# \u95a2\u6570 sympify \u3092\u4f7f\u3046\u3053\u3068\u3067\u3001\u6587\u5b57\u5217\u304b\u3089 SymPy \u30aa\u30d6\u30b8\u30a7\u30af\u30c8\u306b\u5909\u63db\u3067\u304d\u308b\u3002\n",
      "# \u307e\u305f\u3053\u306e\u969b\u3001sympify \u306e\u5f15\u6570 evaluate \u3092 False \u306b\u3059\u308b\u3053\u3068\u3067\u3001\u5f0f\u3092\u7c21\u7565\u5316\u3055\u305b\u306a\u3044\u3053\u3068\u304c\u3067\u304d\u308b\u3002\n",
      "# \u305f\u3060\u3057\u3001sympify \u306f eval \u3092\u4f7f\u3063\u3066\u3044\u308b\u306e\u3067\u3001\u5b89\u5168\u306a\u6587\u5b57\u5217\u306b\u3057\u304b\u4f7f\u3048\u306a\u3044\u3002\u4e0d\u7528\u610f\u306b\u4f7f\u3046\u3068\u3001\u653b\u6483\u8005\u304c\u4efb\u610f\u306e\u30d7\u30ed\u30b0\u30e9\u30e0\u3092\u5b9f\u884c\u3067\u304d\u3066\u3057\u307e\u3046\u3002\n",
      "expr1 = sympify('sqrt(2) + sqrt(2)', evaluate=False)\n",
      "# \u6d6e\u52d5\u5c0f\u6570\u70b9\u6570\u3067\u8fd1\u4f3c\u5024\u3092\u5f97\u308b\u306b\u306f evalf \u95a2\u6570\u3092\u4f7f\u3046\u3002\n",
      "expr2 = expr1.evalf()\n",
      "(expr1, expr2)\n"
     ],
     "language": "python",
     "metadata": {},
     "outputs": []
    },
    {
     "cell_type": "code",
     "collapsed": false,
     "input": [
      "# evalf \u306e\u7cbe\u5ea6\u306f\u30c7\u30d5\u30a9\u30eb\u30c8\u3067 15 \u6841\u3067\u3042\u308b\u304c\u3001\u6307\u5b9a\u3067\u304d\u308b\u3002\n",
      "# \u3053\u3053\u3067\u306f\u3001\u5186\u5468\u7387 pi \u3092 100 \u6841\u6c42\u3081\u308b\u3002\n",
      "# \u306a\u304a 3 \u6841\u6c42\u3081\u308b\u3068 3.14 \u3067\u3042\u308b\u3002\n",
      "pi.evalf(100)"
     ],
     "language": "python",
     "metadata": {},
     "outputs": []
    },
    {
     "cell_type": "code",
     "collapsed": false,
     "input": [
      "# sympy \u306e\u5f0f\u3067\u66f8\u304b\u308c\u305f\u95a2\u6570\u306f\u3001\u6d6e\u52d5\u5c0f\u6570\u70b9\u6570\u3092\u7e70\u308a\u8fd4\u3057\u5f97\u308b\u305f\u3081\u306b\u306f\u9045\u3044\u3002\n",
      "# sympy \u306e\u5f0f\u3092\u3001math \u3084 numpy \u3084 scipy \u3068\u3044\u3046\u4efb\u610f\u306e\u30e9\u30a4\u30d6\u30e9\u30ea\u306e\u3082\u306e\u3078\u5909\u63db\u3059\u308b\u3053\u3068\u304c\u3067\u304d\u308b\u3002\n",
      "expr = sin(x)\n",
      "f = lambdify(x, expr, \"math\")\n",
      "f(0.1)"
     ],
     "language": "python",
     "metadata": {},
     "outputs": []
    }
   ],
   "metadata": {}
  }
 ]
}