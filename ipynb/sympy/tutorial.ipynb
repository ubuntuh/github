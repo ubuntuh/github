{
 "metadata": {
  "name": "",
  "signature": "sha256:0293f0d0c1b3be59abe6642e420d0985a87c311b10e240ba5d1bc61299cf7b32"
 },
 "nbformat": 3,
 "nbformat_minor": 0,
 "worksheets": [
  {
   "cells": [
    {
     "cell_type": "markdown",
     "metadata": {},
     "source": [
      "# SymPy\n",
      "\n",
      "### 2016-02-06 Sat\n",
      "\n",
      "* SymPy \u306f computer algebra system (CAS) \u306e\u4e00\u3064\u3067\u3042\u308b\u3002\u307b\u3068\u3093\u3069\u540c\u3058\u610f\u5473\u3060\u304c\u3001symbolic computation system \u3067\u3082\u3042\u308b\u3002\n",
      "* SymPy \u306e\u516c\u5f0f\u306e\u30c1\u30e5\u30fc\u30c8\u30ea\u30a2\u30eb\u304c\u3042\u308b\u3002\n",
      "* http://docs.sympy.org/latest/tutorial/index.html\n",
      "* \u30d7\u30ed\u30b0\u30e9\u30df\u30f3\u30b0\u306b\u304a\u3044\u3066\u57fa\u672c\u7684\u3067\u3042\u308b\u6d6e\u52d5\u5c0f\u6570\u70b9\u6f14\u7b97\u306b\u304a\u3044\u3066\u3001\u5358\u7d14\u306b 8 \u306e\u5e73\u65b9\u6839\u3092\u5f97\u305f\u306a\u3089\u3070\u3001\u7b54\u3048\u306f 2.828... \u3068\u3044\u3046\u8fd1\u4f3c\u5024\u306b\u306a\u308b\u3002\u3057\u304b\u3057 SymPy \u3067\u306f\u9055\u3046\u3002"
     ]
    },
    {
     "cell_type": "code",
     "collapsed": false,
     "input": [
      "import math\n",
      "import sympy\n",
      "sympy.init_printing()\n",
      "expr1 = math.sqrt(8)\n",
      "expr2 = sympy.sqrt(8)\n",
      "(expr1, expr2)"
     ],
     "language": "python",
     "metadata": {},
     "outputs": [
      {
       "latex": [
        "$$\\left ( 2.82842712475, \\quad 2 \\sqrt{2}\\right )$$"
       ],
       "metadata": {},
       "output_type": "pyout",
       "png": "[encoded data removed]",
       "prompt_number": 1,
       "text": [
        "\u239b                   ___\u239e\n",
        "\u239d2.82842712475, 2\u22c5\u2572\u2571 2 \u23a0"
       ]
      }
     ],
     "prompt_number": 1
    },
    {
     "cell_type": "markdown",
     "metadata": {},
     "source": [
      "* \u5909\u6570\u3092\u4f7f\u3046\u6642\u306b\u306f\u3001\u4f7f\u3046\u524d\u306b\u5b9a\u7fa9\u3059\u308b\u3002\u3053\u3053\u3067\u306f\u5909\u6570 x \u3068 y \u3092\u5b9a\u7fa9\u3059\u308b\u3002\n",
      "* \u5f0f\u306b\u5bfe\u3059\u308b\u8a08\u7b97\u3082\u9069\u5207\u306b\u884c\u308f\u308c\u308b\u3002"
     ]
    },
    {
     "cell_type": "code",
     "collapsed": false,
     "input": [
      "from sympy import symbols\n",
      "x, y = symbols('x y')\n",
      "expr = x + 2 * y\n",
      "(expr, expr + 1, expr - x)"
     ],
     "language": "python",
     "metadata": {},
     "outputs": [
      {
       "latex": [
        "$$\\left ( x + 2 y, \\quad x + 2 y + 1, \\quad 2 y\\right )$$"
       ],
       "metadata": {},
       "output_type": "pyout",
       "png": "[encoded data removed]",
       "prompt_number": 2,
       "text": [
        "(x + 2\u22c5y, x + 2\u22c5y + 1, 2\u22c5y)"
       ]
      }
     ],
     "prompt_number": 2
    },
    {
     "cell_type": "markdown",
     "metadata": {},
     "source": [
      "* \u3069\u3061\u3089\u306e\u5f62\u304c\u4fbf\u5229\u3067\u3042\u308b\u304b\u304c\u72b6\u6cc1\u306b\u3088\u3063\u3066\u7570\u306a\u308b\u5834\u5408\u306b\u306f\u3001\u660e\u793a\u7684\u306b\u5909\u5f62\u3059\u308b\u3002"
     ]
    },
    {
     "cell_type": "code",
     "collapsed": false,
     "input": [
      "from sympy import expand\n",
      "from sympy import factor\n",
      "expr1 = x * (x + 2 * y)\n",
      "expr2 = expand(expr1)\n",
      "expr3 = factor(expr2)\n",
      "(expr1, expr2, expr3)"
     ],
     "language": "python",
     "metadata": {},
     "outputs": [
      {
       "latex": [
        "$$\\left ( x \\left(x + 2 y\\right), \\quad x^{2} + 2 x y, \\quad x \\left(x + 2 y\\right)\\right )$$"
       ],
       "metadata": {},
       "output_type": "pyout",
       "png": "[encoded data removed]",
       "prompt_number": 3,
       "text": [
        "\u239b              2                     \u239e\n",
        "\u239dx\u22c5(x + 2\u22c5y), x  + 2\u22c5x\u22c5y, x\u22c5(x + 2\u22c5y)\u23a0"
       ]
      }
     ],
     "prompt_number": 3
    },
    {
     "cell_type": "markdown",
     "metadata": {},
     "source": [
      "## \u4ee3\u8868\u7684\u306a\u6a5f\u80fd"
     ]
    },
    {
     "cell_type": "code",
     "collapsed": false,
     "input": [
      "# \u5fae\u5206 differentiate\n",
      "from sympy import *\n",
      "x, t, z, nu = symbols('x t z nu')\n",
      "expr1 = sin(x) * exp(x)\n",
      "expr2 = diff(expr1, x)\n",
      "(expr1, expr2)"
     ],
     "language": "python",
     "metadata": {},
     "outputs": [
      {
       "latex": [
        "$$\\left ( e^{x} \\sin{\\left (x \\right )}, \\quad e^{x} \\sin{\\left (x \\right )} + e^{x} \\cos{\\left (x \\right )}\\right )$$"
       ],
       "metadata": {},
       "output_type": "pyout",
       "png": "[encoded data removed]",
       "prompt_number": 4,
       "text": [
        "\u239b x          x           x       \u239e\n",
        "\u239d\u212f \u22c5sin(x), \u212f \u22c5sin(x) + \u212f \u22c5cos(x)\u23a0"
       ]
      }
     ],
     "prompt_number": 4
    },
    {
     "cell_type": "code",
     "collapsed": false,
     "input": [
      "# \u7a4d\u5206\n",
      "expr1 = exp(x) * sin(x) + exp(x) * cos(x)\n",
      "expr2 = integrate(expr1, x)\n",
      "(expr1, expr2)"
     ],
     "language": "python",
     "metadata": {},
     "outputs": [
      {
       "latex": [
        "$$\\left ( e^{x} \\sin{\\left (x \\right )} + e^{x} \\cos{\\left (x \\right )}, \\quad e^{x} \\sin{\\left (x \\right )}\\right )$$"
       ],
       "metadata": {},
       "output_type": "pyout",
       "png": "[encoded data removed]",
       "prompt_number": 5,
       "text": [
        "\u239b x           x          x       \u239e\n",
        "\u239d\u212f \u22c5sin(x) + \u212f \u22c5cos(x), \u212f \u22c5sin(x)\u23a0"
       ]
      }
     ],
     "prompt_number": 5
    },
    {
     "cell_type": "code",
     "collapsed": false,
     "input": [
      "expr1 = sin(x ** 2)\n",
      "expr2 = integrate(expr1, (x, -oo, oo))\n",
      "(expr1, expr2)"
     ],
     "language": "python",
     "metadata": {},
     "outputs": [
      {
       "latex": [
        "$$\\left ( \\sin{\\left (x^{2} \\right )}, \\quad \\frac{\\sqrt{2} \\sqrt{\\pi}}{2}\\right )$$"
       ],
       "metadata": {},
       "output_type": "pyout",
       "png": "[encoded data removed]",
       "prompt_number": 6,
       "text": [
        "\u239b           ___   ___\u239e\n",
        "\u239c   \u239b 2\u239e  \u2572\u2571 2 \u22c5\u2572\u2571 \u03c0 \u239f\n",
        "\u239csin\u239dx \u23a0, \u2500\u2500\u2500\u2500\u2500\u2500\u2500\u2500\u2500\u2500\u2500\u239f\n",
        "\u239d              2     \u23a0"
       ]
      }
     ],
     "prompt_number": 6
    },
    {
     "cell_type": "code",
     "collapsed": false,
     "input": [
      "# \u6975\u9650\n",
      "expr1 = sin(x)/x\n",
      "expr2 = limit(expr1, x, 0)\n",
      "(expr1, expr2)"
     ],
     "language": "python",
     "metadata": {},
     "outputs": [
      {
       "latex": [
        "$$\\left ( \\frac{1}{x} \\sin{\\left (x \\right )}, \\quad 1\\right )$$"
       ],
       "metadata": {},
       "output_type": "pyout",
       "png": "[encoded data removed]",
       "prompt_number": 7,
       "text": [
        "\u239bsin(x)   \u239e\n",
        "\u239c\u2500\u2500\u2500\u2500\u2500\u2500, 1\u239f\n",
        "\u239d  x      \u23a0"
       ]
      }
     ],
     "prompt_number": 7
    },
    {
     "cell_type": "code",
     "collapsed": false,
     "input": [
      "# x ** 2 - 2 = 0 \u3067\u3042\u308b x\u3002\n",
      "expr1 = x ** 2 - 2\n",
      "expr2 = solve(expr1, x)\n",
      "(expr1, expr2)"
     ],
     "language": "python",
     "metadata": {},
     "outputs": [
      {
       "latex": [
        "$$\\left ( x^{2} - 2, \\quad \\left [ - \\sqrt{2}, \\quad \\sqrt{2}\\right ]\\right )$$"
       ],
       "metadata": {},
       "output_type": "pyout",
       "png": "[encoded data removed]",
       "prompt_number": 8,
       "text": [
        "\u239b 2      \u23a1   ___    ___\u23a4\u239e\n",
        "\u239dx  - 2, \u23a3-\u2572\u2571 2 , \u2572\u2571 2 \u23a6\u23a0"
       ]
      }
     ],
     "prompt_number": 8
    },
    {
     "cell_type": "code",
     "collapsed": false,
     "input": [
      "# \u5fae\u5206\u65b9\u7a0b\u5f0f\u3092\u89e3\u304f\n",
      "y = Function('y')\n",
      "expr1 = Eq(y(t).diff(t, t) - y(t), exp(t))\n",
      "expr2 = dsolve(expr1, y(t))\n",
      "(expr1, expr2)"
     ],
     "language": "python",
     "metadata": {},
     "outputs": [
      {
       "latex": [
        "$$\\left ( - y{\\left (t \\right )} + \\frac{d^{2}}{d t^{2}}  y{\\left (t \\right )} = e^{t}, \\quad y{\\left (t \\right )} = C_{2} e^{- t} + \\left(C_{1} + \\frac{t}{2}\\right) e^{t}\\right )$$"
       ],
       "metadata": {},
       "output_type": "pyout",
       "png": "[encoded data removed]",
       "prompt_number": 9,
       "text": [
        "\u239b          2                                        \u239e\n",
        "\u239c         d           t             -t   \u239b     t\u239e  t\u239f\n",
        "\u239c-y(t) + \u2500\u2500\u2500(y(t)) = \u212f , y(t) = C\u2082\u22c5\u212f   + \u239cC\u2081 + \u2500\u239f\u22c5\u212f \u239f\n",
        "\u239c          2                             \u239d     2\u23a0   \u239f\n",
        "\u239d        dt                                         \u23a0"
       ]
      }
     ],
     "prompt_number": 9
    },
    {
     "cell_type": "code",
     "collapsed": false,
     "input": [
      "# \u56fa\u6709\u5024\u3092\u6c42\u3081\u308b\n",
      "expr1 = Matrix([[1, 2], [2, 2]])\n",
      "expr2 = expr1.eigenvals()\n",
      "(expr1, expr2)"
     ],
     "language": "python",
     "metadata": {},
     "outputs": [
      {
       "latex": [
        "$$\\left ( \\left[\\begin{matrix}1 & 2\\\\2 & 2\\end{matrix}\\right], \\quad \\left \\{ \\frac{3}{2} + \\frac{\\sqrt{17}}{2} : 1, \\quad - \\frac{\\sqrt{17}}{2} + \\frac{3}{2} : 1\\right \\}\\right )$$"
       ],
       "metadata": {},
       "output_type": "pyout",
       "png": "[encoded data removed]",
       "prompt_number": 10,
       "text": [
        "\u239b        \u23a7      ____         ____       \u23ab\u239e\n",
        "\u239c        \u23aa3   \u2572\u2571 17        \u2572\u2571 17    3   \u23aa\u239f\n",
        "\u239c\u23a11  2\u23a4, \u23a8\u2500 + \u2500\u2500\u2500\u2500\u2500\u2500: 1, - \u2500\u2500\u2500\u2500\u2500\u2500 + \u2500: 1\u23ac\u239f\n",
        "\u239c\u23a2    \u23a5  \u23aa2     2            2      2   \u23aa\u239f\n",
        "\u239d\u23a32  2\u23a6  \u23a9                              \u23ad\u23a0"
       ]
      }
     ],
     "prompt_number": 10
    },
    {
     "cell_type": "code",
     "collapsed": false,
     "input": [
      "# \u30d9\u30c3\u30bb\u30eb\u95a2\u6570\u3092\u7403\u30d9\u30c3\u30bb\u30eb\u95a2\u6570\u3067\u8868\u3059\u3002\n",
      "expr1 = besselj(nu, z)\n",
      "expr2 = expr1.rewrite(jn)\n",
      "(expr1, expr2)"
     ],
     "language": "python",
     "metadata": {},
     "outputs": [
      {
       "latex": [
        "$$\\left ( J_{\\nu}\\left(z\\right), \\quad \\frac{\\sqrt{2} \\sqrt{z}}{\\sqrt{\\pi}} j_{\\nu - \\frac{1}{2}}\\left(z\\right)\\right )$$"
       ],
       "metadata": {},
       "output_type": "pyout",
       "png": "[encoded data removed]",
       "prompt_number": 11,
       "text": [
        "\u239b                 ___   ___               \u239e\n",
        "\u239c               \u2572\u2571 2 \u22c5\u2572\u2571 z \u22c5jn(\u03bd - 1/2, z)\u239f\n",
        "\u239cbesselj(\u03bd, z), \u2500\u2500\u2500\u2500\u2500\u2500\u2500\u2500\u2500\u2500\u2500\u2500\u2500\u2500\u2500\u2500\u2500\u2500\u2500\u2500\u2500\u2500\u2500\u2500\u2500\u2500\u239f\n",
        "\u239c                           ___           \u239f\n",
        "\u239d                         \u2572\u2571 \u03c0            \u23a0"
       ]
      }
     ],
     "prompt_number": 11
    },
    {
     "cell_type": "markdown",
     "metadata": {},
     "source": [
      "## \u57fa\u672c\u7684\u306a\u64cd\u4f5c"
     ]
    },
    {
     "cell_type": "code",
     "collapsed": false,
     "input": [
      "# \u4efb\u610f\u306e\u6587\u5b57\u5217\u3092\u8a18\u53f7\u306b\u3067\u304d\u308b\u3002\n",
      "returnOnEquity = symbols('returnOnEquity')\n",
      "netIncome = symbols('netIncome')\n",
      "shareholderEquity = symbols('shareholderEquity')\n",
      "# \u7b49\u53f7\u306f\u95a2\u6570 Eq\n",
      "expr1 = Eq(returnOnEquity, netIncome / shareholderEquity)\n",
      "# \u4ee3\u5165 (substitute) \u3059\u308b\u3002\n",
      "expr2 = expr1.subs([(netIncome, 6), (shareholderEquity, 50)])\n",
      "(expr1, expr2)"
     ],
     "language": "python",
     "metadata": {},
     "outputs": [
      {
       "latex": [
        "$$\\left ( returnOnEquity = \\frac{netIncome}{shareholderEquity}, \\quad returnOnEquity = \\frac{3}{25}\\right )$$"
       ],
       "metadata": {},
       "output_type": "pyout",
       "png": "[encoded data removed]",
       "prompt_number": 22,
       "text": [
        "\u239b                     netIncome                           \u239e\n",
        "\u239creturnOnEquity = \u2500\u2500\u2500\u2500\u2500\u2500\u2500\u2500\u2500\u2500\u2500\u2500\u2500\u2500\u2500\u2500\u2500, returnOnEquity = 3/25\u239f\n",
        "\u239d                 shareholderEquity                       \u23a0"
       ]
      }
     ],
     "prompt_number": 22
    },
    {
     "cell_type": "code",
     "collapsed": false,
     "input": [
      "# \u95a2\u6570 sympify \u3092\u4f7f\u3046\u3053\u3068\u3067\u3001\u6587\u5b57\u5217\u304b\u3089 SymPy \u30aa\u30d6\u30b8\u30a7\u30af\u30c8\u306b\u5909\u63db\u3067\u304d\u308b\u3002\n",
      "# \u307e\u305f\u3053\u306e\u969b\u3001sympify \u306e\u5f15\u6570 evaluate \u3092 False \u306b\u3059\u308b\u3053\u3068\u3067\u3001\u5f0f\u3092\u7c21\u7565\u5316\u3055\u305b\u306a\u3044\u3053\u3068\u304c\u3067\u304d\u308b\u3002\n",
      "# \u305f\u3060\u3057\u3001sympify \u306f eval \u3092\u4f7f\u3063\u3066\u3044\u308b\u306e\u3067\u3001\u5b89\u5168\u306a\u6587\u5b57\u5217\u306b\u3057\u304b\u4f7f\u3048\u306a\u3044\u3002\u4e0d\u7528\u610f\u306b\u4f7f\u3046\u3068\u3001\u653b\u6483\u8005\u304c\u4efb\u610f\u306e\u30d7\u30ed\u30b0\u30e9\u30e0\u3092\u5b9f\u884c\u3067\u304d\u3066\u3057\u307e\u3046\u3002\n",
      "expr1 = sympify('sqrt(2) + sqrt(2)', evaluate=False)\n",
      "# \u6d6e\u52d5\u5c0f\u6570\u70b9\u6570\u3067\u8fd1\u4f3c\u5024\u3092\u5f97\u308b\u306b\u306f evalf \u95a2\u6570\u3092\u4f7f\u3046\u3002\n",
      "expr2 = expr1.evalf()\n",
      "(expr1, expr2)\n"
     ],
     "language": "python",
     "metadata": {},
     "outputs": [
      {
       "latex": [
        "$$\\left ( \\sqrt{2} + \\sqrt{2}, \\quad 2.82842712474619\\right )$$"
       ],
       "metadata": {},
       "output_type": "pyout",
       "png": "[encoded data removed]",
       "prompt_number": 35,
       "text": [
        "\u239b  ___     ___                  \u239e\n",
        "\u239d\u2572\u2571 2  + \u2572\u2571 2 , 2.82842712474619\u23a0"
       ]
      }
     ],
     "prompt_number": 35
    },
    {
     "cell_type": "code",
     "collapsed": false,
     "input": [
      "# evalf \u306e\u7cbe\u5ea6\u306f\u30c7\u30d5\u30a9\u30eb\u30c8\u3067 15 \u6841\u3067\u3042\u308b\u304c\u3001\u6307\u5b9a\u3067\u304d\u308b\u3002\n",
      "# \u3053\u3053\u3067\u306f\u3001\u5186\u5468\u7387 pi \u3092 100 \u6841\u6c42\u3081\u308b\u3002\n",
      "# \u306a\u304a 3 \u6841\u6c42\u3081\u308b\u3068 3.14 \u3067\u3042\u308b\u3002\n",
      "pi.evalf(100)"
     ],
     "language": "python",
     "metadata": {},
     "outputs": [
      {
       "latex": [
        "$$3.141592653589793238462643383279502884197169399375105820974944592307816406286208998628034825342117068$$"
       ],
       "metadata": {},
       "output_type": "pyout",
       "png": "[encoded data removed]",
       "prompt_number": 48,
       "text": [
        "3.1415926535897932384626433832795028841971693993751058209749445923078164062862\n",
        "08998628034825342117068"
       ]
      }
     ],
     "prompt_number": 48
    }
   ],
   "metadata": {}
  }
 ]
}